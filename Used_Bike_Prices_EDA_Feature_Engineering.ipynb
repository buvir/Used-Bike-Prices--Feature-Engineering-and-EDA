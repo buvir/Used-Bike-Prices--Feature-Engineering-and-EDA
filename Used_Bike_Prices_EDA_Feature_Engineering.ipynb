{
 "cells": [
  {
   "cell_type": "markdown",
   "id": "b5e31ebc",
   "metadata": {},
   "source": [
    "# Used Bike Prices — Feature Engineering & EDA\n",
    "\n",
    "**Project:** Used Bike Prices - Feature Engineering and EDA  \n",
    "**Author:** _Your Name_  \n",
    "**Tools:** VS Code, Jupyter, Python (pandas, numpy, matplotlib, scikit-learn)  \n",
    "\n",
    "This notebook performs a comprehensive cleaning + EDA + baseline modeling pipeline on the provided dataset.\n",
    "It follows the structure in the 69-page guide you shared and mirrors key transformations (parsing text fields,\n",
    "deriving `cc` and `brand`, fixing `mileage`, `power`, `kms_driven`, etc.), with clear cells you can run end‑to‑end.\n"
   ]
  },
  {
   "cell_type": "markdown",
   "id": "86efbd40",
   "metadata": {},
   "source": [
    "## Table of Contents\n",
    "1. [Setup](#setup)\n",
    "2. [Load Data](#load)\n",
    "3. [Quick Audit](#audit)\n",
    "4. [Cleaning & Standardization](#clean)\n",
    "   - model_name → `brand`, `cc`, `model_year` sanity\n",
    "   - `mileage` numeric\n",
    "   - `power` to bhp\n",
    "   - `kms_driven` numeric\n",
    "   - `owner`, `location` tidy\n",
    "5. [Feature Engineering](#fe)\n",
    "   - Age of bike\n",
    "   - Ownership dummies, Brand dummies\n",
    "6. [Exploratory Data Analysis](#eda)\n",
    "7. [Train/Test Split & Baseline Models](#model)\n",
    "8. [Save Artifacts](#save)\n"
   ]
  },
  {
   "cell_type": "markdown",
   "id": "e17b3bb5",
   "metadata": {},
   "source": [
    "## 1) Setup <a id='setup'></a>"
   ]
  },
  {
   "cell_type": "code",
   "execution_count": null,
   "id": "9a7b0c5c",
   "metadata": {},
   "outputs": [],
   "source": [
    "# Core\n",
    "import pandas as pd\n",
    "import numpy as np\n",
    "import re\n",
    "from pathlib import Path\n",
    "from datetime import datetime\n",
    "\n",
    "# Viz (stick to matplotlib per guidance)\n",
    "import matplotlib.pyplot as plt\n",
    "\n",
    "# Modeling\n",
    "from sklearn.model_selection import train_test_split\n",
    "from sklearn.metrics import mean_absolute_error, mean_squared_error, r2_score\n",
    "from sklearn.linear_model import LinearRegression, Ridge, Lasso\n",
    "from sklearn.ensemble import RandomForestRegressor, GradientBoostingRegressor\n",
    "\n",
    "# Display\n",
    "pd.set_option('display.max_columns', 100)\n",
    "pd.set_option('display.width', 120)\n",
    "print('Libraries imported.')"
   ]
  },
  {
   "cell_type": "markdown",
   "id": "bc453a5f",
   "metadata": {},
   "source": [
    "## 2) Load Data <a id='load'></a>"
   ]
  },
  {
   "cell_type": "code",
   "execution_count": null,
   "id": "5f693e62",
   "metadata": {},
   "outputs": [],
   "source": [
    "DATA_PATH = Path('/mnt/data/bikes.csv')  # update if needed\n",
    "assert DATA_PATH.exists(), f'Missing file: {DATA_PATH}'\n",
    "\n",
    "raw = pd.read_csv(DATA_PATH)\n",
    "print(raw.shape)\n",
    "raw.head(10)"
   ]
  },
  {
   "cell_type": "markdown",
   "id": "f65aea33",
   "metadata": {},
   "source": [
    "## 3) Quick Audit <a id='audit'></a>"
   ]
  },
  {
   "cell_type": "code",
   "execution_count": null,
   "id": "ce523d34",
   "metadata": {},
   "outputs": [],
   "source": [
    "raw.info()\n",
    "raw.describe(include='all').T"
   ]
  },
  {
   "cell_type": "markdown",
   "id": "3f5f2426",
   "metadata": {},
   "source": [
    "## 4) Cleaning & Standardization <a id='clean'></a>"
   ]
  },
  {
   "cell_type": "markdown",
   "id": "60d741da",
   "metadata": {},
   "source": [
    "### 4.1 Make a working copy"
   ]
  },
  {
   "cell_type": "code",
   "execution_count": null,
   "id": "204305ea",
   "metadata": {},
   "outputs": [],
   "source": [
    "df = raw.copy()\n",
    "\n",
    "# Normalize column names\n",
    "df.columns = [c.strip().lower() for c in df.columns]\n",
    "df.head(2)"
   ]
  },
  {
   "cell_type": "markdown",
   "id": "89b5f27d",
   "metadata": {},
   "source": [
    "### 4.2 Extract `brand` and `cc` from `model_name`"
   ]
  },
  {
   "cell_type": "code",
   "execution_count": null,
   "id": "97889e2d",
   "metadata": {},
   "outputs": [],
   "source": [
    "def extract_brand(name: str) -> str:\n",
    "    try:\n",
    "        return str(name).strip().split()[0]\n",
    "    except Exception:\n",
    "        return np.nan\n",
    "\n",
    "def extract_cc(name: str):\n",
    "    # Parse things like 'Royal Enfield Classic 350cc 2016' or 'Yamaha R15 150 cc'\n",
    "    # Returns numeric cc if found, else NaN.\n",
    "    s = str(name).lower()\n",
    "    m = re.search(r'(\\d{2,4})\\s*cc', s)\n",
    "    if m:\n",
    "        try:\n",
    "            return float(m.group(1))\n",
    "        except:\n",
    "            return np.nan\n",
    "    return np.nan\n",
    "\n",
    "df['brand'] = df['model_name'].apply(extract_brand)\n",
    "df['cc'] = df['model_name'].apply(extract_cc)\n",
    "\n",
    "# Standardize brand capitalization\n",
    "df['brand'] = df['brand'].str.title()\n",
    "\n",
    "df[['model_name','brand','cc']].head(10)"
   ]
  },
  {
   "cell_type": "markdown",
   "id": "6a3decc7",
   "metadata": {},
   "source": [
    "### 4.3 Clean `mileage` → numeric (kmpl)"
   ]
  },
  {
   "cell_type": "code",
   "execution_count": null,
   "id": "35349219",
   "metadata": {},
   "outputs": [],
   "source": [
    "def parse_mileage(mil):\n",
    "    # Accepts variants: '\\n\\n 35 kmpl', '80 Kmpl', '28 Kms' (bad), '', 'nan', 'liquid cooled'\n",
    "    if pd.isna(mil):\n",
    "        return np.nan\n",
    "    s = str(mil).strip().lower()\n",
    "    s = s.replace('kmpl','').replace('km/l','').replace('km / l','')\n",
    "    s = s.replace('kms','')  # bad unit occasionally\n",
    "    s = s.replace('\\n',' ').replace('\\r',' ')\n",
    "    s = s.replace('liquid cooled','')  # treat as missing\n",
    "    m = re.search(r'(-?\\d+(\\.\\d+)?)', s)  # first numeric token\n",
    "    return float(m.group(1)) if m else np.nan\n",
    "\n",
    "df['mileage_kmpl'] = df['mileage'].apply(parse_mileage)\n",
    "df['mileage_kmpl'].describe()"
   ]
  },
  {
   "cell_type": "markdown",
   "id": "e483cf0e",
   "metadata": {},
   "source": [
    "### 4.4 Clean `power` → numeric bhp"
   ]
  },
  {
   "cell_type": "code",
   "execution_count": null,
   "id": "822bc12c",
   "metadata": {},
   "outputs": [],
   "source": [
    "def parse_power_bhp(p):\n",
    "    # Accepts: '19 bhp', '43 bhp @ 9000 rpm', '15.2 Bhp @ 8500 rpm', '50 kW', '60 PS', '20 hp'\n",
    "    if pd.isna(p):\n",
    "        return np.nan\n",
    "    s = str(p).strip().lower()\n",
    "    s = s.split('@')[0].strip()  # drop rpm part\n",
    "    # kw → bhp\n",
    "    if 'kw' in s:\n",
    "        m = re.search(r'(\\d+(\\.\\d+)?)', s)\n",
    "        return float(m.group(1)) * 1.341 if m else np.nan\n",
    "    # ps → bhp\n",
    "    if 'ps' in s:\n",
    "        m = re.search(r'(\\d+(\\.\\d+)?)', s)\n",
    "        return float(m.group(1)) * 0.99 if m else np.nan\n",
    "    # hp → bhp (approx)\n",
    "    if 'hp' in s and 'bhp' not in s:\n",
    "        m = re.search(r'(\\d+(\\.\\d+)?)', s)\n",
    "        return float(m.group(1)) * 0.986 if m else np.nan\n",
    "    # default: bhp present or unitless number\n",
    "    m = re.search(r'(\\d+(\\.\\d+)?)', s)\n",
    "    return float(m.group(1)) if m else np.nan\n",
    "\n",
    "df['power_bhp'] = df['power'].apply(parse_power_bhp)\n",
    "df['power_bhp'].describe()"
   ]
  },
  {
   "cell_type": "markdown",
   "id": "5b2c3806",
   "metadata": {},
   "source": [
    "### 4.5 Clean `kms_driven` → numeric km"
   ]
  },
  {
   "cell_type": "code",
   "execution_count": null,
   "id": "ee0ebf9f",
   "metadata": {},
   "outputs": [],
   "source": [
    "def parse_kms(x):\n",
    "    # Accepts '17000 Km', 'Mileage 28 Kms', '30000 Km', 'yes' (bad)\n",
    "    if pd.isna(x):\n",
    "        return np.nan\n",
    "    s = str(x).strip().lower()\n",
    "    if s in {'yes','mileage'}:\n",
    "        return np.nan\n",
    "    m = re.search(r'(\\d+(\\.\\d+)?)', s)\n",
    "    return float(m.group(1)) if m else np.nan\n",
    "\n",
    "df['kms'] = df['kms_driven'].apply(parse_kms)\n",
    "df['kms'] = df['kms'].fillna(df['kms'].median())\n",
    "df['kms'].describe()"
   ]
  },
  {
   "cell_type": "markdown",
   "id": "180c65d4",
   "metadata": {},
   "source": [
    "### 4.6 Owner & Location tidy"
   ]
  },
  {
   "cell_type": "code",
   "execution_count": null,
   "id": "54b35a63",
   "metadata": {},
   "outputs": [],
   "source": [
    "def normalize_owner(o):\n",
    "    if pd.isna(o): return np.nan\n",
    "    s = str(o).strip().lower()\n",
    "    if 'first' in s: return 'first'\n",
    "    if 'second' in s: return 'second'\n",
    "    if 'third' in s: return 'third'\n",
    "    return 'fourth_or_more'\n",
    "\n",
    "df['owner_cat'] = df['owner'].apply(normalize_owner)\n",
    "df['location'] = df['location'].astype(str).str.strip().str.replace('\\s+', ' ', regex=True).str.title()\n",
    "\n",
    "df[['owner', 'owner_cat', 'location']].head(10)"
   ]
  },
  {
   "cell_type": "markdown",
   "id": "89dc6f50",
   "metadata": {},
   "source": [
    "### 4.7 Final type fixes & target"
   ]
  },
  {
   "cell_type": "code",
   "execution_count": null,
   "id": "a9568ecf",
   "metadata": {},
   "outputs": [],
   "source": [
    "for col in ['model_year', 'mileage_kmpl', 'power_bhp', 'kms', 'cc']:\n",
    "    if col in df.columns:\n",
    "        df[col] = pd.to_numeric(df[col], errors='coerce')\n",
    "\n",
    "df['price'] = pd.to_numeric(df['price'], errors='coerce')\n",
    "\n",
    "print(df[['model_year','brand','cc','mileage_kmpl','power_bhp','kms','price']].describe())"
   ]
  },
  {
   "cell_type": "markdown",
   "id": "7683045e",
   "metadata": {},
   "source": [
    "## 5) Feature Engineering <a id='fe'></a>"
   ]
  },
  {
   "cell_type": "code",
   "execution_count": null,
   "id": "e5e70f47",
   "metadata": {},
   "outputs": [],
   "source": [
    "from datetime import datetime\n",
    "CURRENT_YEAR = datetime.now().year\n",
    "df['bike_age'] = CURRENT_YEAR - df['model_year']\n",
    "\n",
    "# Clip extreme outliers\n",
    "df['kms_clipped'] = df['kms'].clip(lower=0, upper=df['kms'].quantile(0.99))\n",
    "df['power_bhp_clipped'] = df['power_bhp'].clip(lower=0, upper=df['power_bhp'].quantile(0.99))\n",
    "df['mileage_kmpl_clipped'] = df['mileage_kmpl'].clip(lower=0, upper=df['mileage_kmpl'].quantile(0.99))\n",
    "\n",
    "# Categorical encodings\n",
    "owner_dummies = pd.get_dummies(df['owner_cat'], prefix='owner', drop_first=False)\n",
    "\n",
    "brand_top = df['brand'].value_counts().index[:15]\n",
    "df['brand_top'] = np.where(df['brand'].isin(brand_top), df['brand'], 'Other')\n",
    "brand_dummies = pd.get_dummies(df['brand_top'], prefix='brand', drop_first=False)\n",
    "\n",
    "feats = pd.concat([\n",
    "    df[['bike_age','kms_clipped','power_bhp_clipped','mileage_kmpl_clipped','cc']],\n",
    "    owner_dummies, brand_dummies\n",
    "], axis=1)\n",
    "\n",
    "target = df['price']\n",
    "feats.shape, target.shape"
   ]
  },
  {
   "cell_type": "markdown",
   "id": "763b3be4",
   "metadata": {},
   "source": [
    "## 6) Exploratory Data Analysis <a id='eda'></a>"
   ]
  },
  {
   "cell_type": "code",
   "execution_count": null,
   "id": "430bb9b1",
   "metadata": {},
   "outputs": [],
   "source": [
    "plt.figure(figsize=(6,4))\n",
    "plt.hist(target.dropna(), bins=50)\n",
    "plt.title('Price Distribution')\n",
    "plt.xlabel('Price (INR)')\n",
    "plt.ylabel('Count')\n",
    "plt.show()\n",
    "\n",
    "for col in ['bike_age','kms_clipped','power_bhp_clipped','mileage_kmpl_clipped','cc']:\n",
    "    plt.figure(figsize=(6,4))\n",
    "    plt.scatter(df[col], target, s=8, alpha=0.5)\n",
    "    plt.title(f'Price vs {col}')\n",
    "    plt.xlabel(col)\n",
    "    plt.ylabel('Price')\n",
    "    plt.show()\n",
    "\n",
    "owner_mean = df.groupby('owner_cat')['price'].mean().sort_values(ascending=False)\n",
    "plt.figure(figsize=(6,4))\n",
    "owner_mean.plot(kind='bar')\n",
    "plt.title('Mean Price by Owner Category')\n",
    "plt.xlabel('Owner Category')\n",
    "plt.ylabel('Mean Price (INR)')\n",
    "plt.show()\n",
    "\n",
    "top_counts = df['brand'].value_counts().head(15)\n",
    "plt.figure(figsize=(8,4))\n",
    "top_counts.plot(kind='bar')\n",
    "plt.title('Top 15 Brands by Listing Count')\n",
    "plt.xlabel('Brand')\n",
    "plt.ylabel('Count')\n",
    "plt.show()"
   ]
  },
  {
   "cell_type": "markdown",
   "id": "24e7f8af",
   "metadata": {},
   "source": [
    "## 7) Train/Test Split & Baseline Models <a id='model'></a>"
   ]
  },
  {
   "cell_type": "code",
   "execution_count": null,
   "id": "4a1c96e9",
   "metadata": {},
   "outputs": [],
   "source": [
    "from sklearn.model_selection import train_test_split\n",
    "from sklearn.metrics import mean_absolute_error, mean_squared_error, r2_score\n",
    "from sklearn.linear_model import LinearRegression, Ridge, Lasso\n",
    "from sklearn.ensemble import RandomForestRegressor, GradientBoostingRegressor\n",
    "import pandas as pd\n",
    "\n",
    "X = feats.fillna(feats.median(numeric_only=True))\n",
    "y = target\n",
    "\n",
    "X_train, X_test, y_train, y_test = train_test_split(X, y, test_size=0.2, random_state=42)\n",
    "\n",
    "def evaluate(name, model):\n",
    "    model.fit(X_train, y_train)\n",
    "    pred = model.predict(X_test)\n",
    "    mae = mean_absolute_error(y_test, pred)\n",
    "    rmse = mean_squared_error(y_test, pred, squared=False)\n",
    "    r2 = r2_score(y_test, pred)\n",
    "    return {'model': name, 'MAE': mae, 'RMSE': rmse, 'R2': r2}\n",
    "\n",
    "results = []\n",
    "results.append(evaluate('LinearRegression', LinearRegression()))\n",
    "results.append(evaluate('Ridge', Ridge(alpha=1.0)))\n",
    "results.append(evaluate('Lasso', Lasso(alpha=0.001, max_iter=10000)))\n",
    "results.append(evaluate('RandomForest', RandomForestRegressor(n_estimators=200, random_state=42)))\n",
    "results.append(evaluate('GradientBoosting', GradientBoostingRegressor(random_state=42)))\n",
    "\n",
    "pd.DataFrame(results).sort_values('RMSE')"
   ]
  },
  {
   "cell_type": "markdown",
   "id": "030ec2a7",
   "metadata": {},
   "source": [
    "## 8) Save Artifacts <a id='save'></a>"
   ]
  },
  {
   "cell_type": "code",
   "execution_count": null,
   "id": "6d2d7163",
   "metadata": {},
   "outputs": [],
   "source": [
    "from pathlib import Path\n",
    "OUT_DIR = Path('/mnt/data/artifacts')\n",
    "OUT_DIR.mkdir(parents=True, exist_ok=True)\n",
    "\n",
    "df.to_csv(OUT_DIR / 'used_bikes_cleaned.csv', index=False)\n",
    "feats.join(y.rename('price')).to_csv(OUT_DIR / 'used_bikes_model_table.csv', index=False)\n",
    "\n",
    "print('Saved:')\n",
    "print(OUT_DIR / 'used_bikes_cleaned.csv')\n",
    "print(OUT_DIR / 'used_bikes_model_table.csv')"
   ]
  },
  {
   "cell_type": "markdown",
   "id": "7820f6e7",
   "metadata": {},
   "source": [
    "---\n",
    "## VS Code + Git Quickstart\n",
    "\n",
    "**Repo name suggestion:** `Used-Bike-Prices-EDA`\n",
    "\n",
    "1. Open the folder in VS Code (File → Open Folder...).  \n",
    "2. Create a new Git repository:\n",
    "   ```bash\n",
    "   git init\n",
    "   git add .\n",
    "   git commit -m \"Initial: EDA + Feature Engineering notebook\"\n",
    "   ```\n",
    "3. Create a GitHub repo with the same name (on github.com).  \n",
    "4. Link and push:\n",
    "   ```bash\n",
    "   git branch -M main\n",
    "   git remote add origin https://github.com/<your-username>/Used-Bike-Prices-EDA.git\n",
    "   git push -u origin main\n",
    "   ```\n",
    "5. Add a README with project overview, data dictionary, and results.\n"
   ]
  }
 ],
 "metadata": {},
 "nbformat": 4,
 "nbformat_minor": 5
}
